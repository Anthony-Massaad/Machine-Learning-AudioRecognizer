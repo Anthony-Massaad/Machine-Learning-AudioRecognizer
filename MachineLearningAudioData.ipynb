{
  "cells": [
    {
      "cell_type": "code",
      "execution_count": null,
      "metadata": {
        "id": "CrxZ_P9tNkln"
      },
      "outputs": [],
      "source": [
        "# Libraries to install - leave this code block blank if this does not apply to you\n",
        "# Please add a brief comment on why you need the library and what it does\n",
        "\n",
        "# these imports are necessary for processing the WAV audio files and create spectrograms\n",
        "from torchaudio.utils import download_asset\n",
        "import torchaudio\n",
        "import torchaudio.transforms as T\n",
        "\n",
        "# needed for the SVM model\n",
        "from sklearn.svm import SVC\n",
        "from sklearn.model_selection import GridSearchCV\n",
        "from sklearn.preprocessing import StandardScaler\n",
        "\n",
        "import math"
      ]
    },
    {
      "cell_type": "code",
      "execution_count": null,
      "metadata": {
        "id": "t3_N_y3sNfTC"
      },
      "outputs": [],
      "source": [
        "# Libraries you might need\n",
        "# General\n",
        "import os\n",
        "import zipfile\n",
        "import librosa\n",
        "import numpy as np\n",
        "import pandas as pd\n",
        "import matplotlib.pyplot as plt\n",
        "import seaborn as sns\n",
        "\n",
        "\n",
        "# For preproccessing\n",
        "import torch\n",
        "from torch.utils.data import Dataset, DataLoader, random_split\n",
        "import torchvision.transforms as transforms\n",
        "from torchvision.datasets import ImageFolder\n",
        "from sklearn.model_selection import GridSearchCV\n",
        "\n",
        "# For modeling\n",
        "import torch.nn as nn\n",
        "import torch.optim as optim\n",
        "from tqdm import tqdm\n",
        "import torchsummary\n",
        "\n",
        "# For metrics\n",
        "from sklearn.metrics import  accuracy_score\n",
        "from sklearn.metrics import  precision_score\n",
        "from sklearn.metrics import  recall_score\n",
        "from sklearn.metrics import  f1_score\n",
        "from sklearn.metrics import  classification_report\n",
        "from sklearn.metrics import precision_recall_curve\n",
        "from sklearn.metrics import  roc_auc_score\n",
        "from sklearn.metrics import confusion_matrix\n"
      ]
    },
    {
      "cell_type": "code",
      "execution_count": null,
      "metadata": {
        "colab": {
          "base_uri": "https://localhost:8080/"
        },
        "id": "aah6KMLMArdh",
        "outputId": "f4261cea-315e-4e84-b4ba-c37e8bd152b3"
      },
      "outputs": [
        {
          "name": "stdout",
          "output_type": "stream",
          "text": [
            "Mounted at /content/drive\n"
          ]
        }
      ],
      "source": [
        "from google.colab import drive\n",
        "drive.mount('/content/drive')"
      ]
    },
    {
      "cell_type": "code",
      "execution_count": null,
      "metadata": {
        "id": "uhQqTTU3J1or"
      },
      "outputs": [],
      "source": [
        "# Paths defined for extractions\n",
        "zip_file_paths = ['/content/drive/My Drive/GTZAN Genre Collection.zip']\n",
        "\n",
        "dataset_dirs = ['/content/drive/My Drive/GTZAN Genre Collection Spectrograms']"
      ]
    },
    {
      "cell_type": "code",
      "execution_count": null,
      "metadata": {
        "colab": {
          "base_uri": "https://localhost:8080/"
        },
        "id": "aX7IZIh0Cl_X",
        "outputId": "39b66d97-6fe1-497f-e63f-cee752ea8420"
      },
      "outputs": [
        {
          "name": "stdout",
          "output_type": "stream",
          "text": [
            "Extracting /content/drive/My Drive/GTZAN Genre Collection.zip to /content/drive/My Drive/GTZAN Genre Collection\n",
            "Zip file /content/drive/My Drive/GTZAN Genre Collection Spectrograms.zip does not exist.\n"
          ]
        }
      ],
      "source": [
        "# Path for extractions\n",
        "for zip_file_path, dataset_dir in zip(zip_file_paths, dataset_dirs):\n",
        "    if os.path.exists(zip_file_path):\n",
        "        print(f\"Extracting {zip_file_path} to {dataset_dir}\")\n",
        "        with zipfile.ZipFile(zip_file_path, 'r') as zip_ref:\n",
        "            zip_ref.extractall(dataset_dir)\n",
        "    else:\n",
        "        print(f\"Zip file {zip_file_path} does not exist.\")\n"
      ]
    },
    {
      "cell_type": "code",
      "execution_count": null,
      "metadata": {
        "colab": {
          "base_uri": "https://localhost:8080/"
        },
        "id": "qBMmiSVTOhgw",
        "outputId": "c59c1faa-b6da-4478-be3f-86a5d831d441"
      },
      "outputs": [
        {
          "name": "stdout",
          "output_type": "stream",
          "text": [
            "Number of categories/classes: 10\n",
            "['blues', 'classical', 'country', 'disco', 'hiphop', 'jazz', 'metal', 'pop', 'reggae', 'rock']\n",
            "\n",
            "Number of samples in each category:\n",
            "blues: 100 samples\n",
            "classical: 100 samples\n",
            "country: 100 samples\n",
            "disco: 100 samples\n",
            "hiphop: 100 samples\n",
            "jazz: 100 samples\n",
            "metal: 100 samples\n",
            "pop: 100 samples\n",
            "reggae: 100 samples\n",
            "rock: 100 samples\n"
          ]
        }
      ],
      "source": [
        "# Get a count of the samples\n",
        "dataset_path = f\"{dataset_dirs[0]}/GTZAN Genre Collection\"\n",
        "category_counts = {}\n",
        "\n",
        "# go through the unzip directory and get the category and count of each class in the dataset\n",
        "for category in os.listdir(dataset_path):\n",
        "    category_path = os.path.join(dataset_path, category)\n",
        "    if os.path.isdir(category_path):\n",
        "        file_count = len(os.listdir(category_path))\n",
        "        category_counts[category] = file_count\n",
        "\n",
        "# print the count of categories in the dataset, and get the list of category names\n",
        "print(\"Number of categories/classes:\", len(category_counts))\n",
        "categories = list(category_counts.keys())\n",
        "print(categories)\n",
        "print()\n",
        "\n",
        "# for each category, print the number of samples in each to check the balance of the dataset\n",
        "print(\"Number of samples in each category:\")\n",
        "for category, count in category_counts.items():\n",
        "    print(f\"{category}: {count} samples\")\n"
      ]
    },
    {
      "cell_type": "code",
      "execution_count": null,
      "metadata": {
        "colab": {
          "base_uri": "https://localhost:8080/",
          "height": 509
        },
        "id": "Sp1XuomLPuQA",
        "outputId": "884fd75a-b6f3-4a65-f63f-ba0fc29c9a32"
      },
      "outputs": [
        {
          "data": {
            "image/png": "[encoded data removed]",
            "text/plain": [
              "<Figure size 1000x600 with 1 Axes>"
            ]
          },
          "metadata": {},
          "output_type": "display_data"
        }
      ],
      "source": [
        "# Plot the class distributions\n",
        "\n",
        "# obtain the count for each category to use for the bar chart to examine the dataset balance\n",
        "counts = list(category_counts.values())\n",
        "plt.figure(figsize=(10, 6))\n",
        "plt.bar(categories, counts)\n",
        "plt.title('Class Distribution')\n",
        "plt.xlabel('Genre')\n",
        "plt.ylabel('Number of Samples')\n",
        "plt.show()"
      ]
    },
    {
      "cell_type": "code",
      "execution_count": null,
      "metadata": {
        "id": "rMVZZCJKsIaR"
      },
      "outputs": [],
      "source": [
        "# defining the new path for the spectrogram images from the wav files\n",
        "new_data_path = dataset_dirs[0]"
      ]
    },
    {
      "cell_type": "code",
      "execution_count": null,
      "metadata": {
        "colab": {
          "base_uri": "https://localhost:8080/"
        },
        "id": "5tSc4kOsghn_",
        "outputId": "a049149d-c212-4708-c588-459cbc9f8326"
      },
      "outputs": [
        {
          "name": "stdout",
          "output_type": "stream",
          "text": [
            "Creating new directory: /content/drive/My Drive/GTZAN Genre Collection Spectrograms\n",
            "Generating spectrogram for genre: blues\n",
            "Generating spectrogram for genre: classical\n",
            "Generating spectrogram for genre: country\n",
            "Generating spectrogram for genre: disco\n",
            "Generating spectrogram for genre: hiphop\n",
            "Generating spectrogram for genre: jazz\n",
            "Something went wrong while processing the following file: jazz.00054.wav will process the one before again for consistency\n",
            "Generating spectrogram for genre: metal\n",
            "Generating spectrogram for genre: pop\n",
            "Generating spectrogram for genre: reggae\n",
            "Generating spectrogram for genre: rock\n"
          ]
        }
      ],
      "source": [
        "# Preprocessinge\n",
        "# converting WAV to images\n",
        "\n",
        "# function for plotting the spectrogram of the wav audio and save it\n",
        "def plot_spectrogram(specgram, spectrogram_path_name):\n",
        "    _, ax = plt.subplots(1, 1)\n",
        "    ax.imshow(librosa.power_to_db(specgram), origin=\"lower\", aspect=\"auto\", interpolation=\"nearest\")\n",
        "    ax.axis('off')\n",
        "    plt.savefig(spectrogram_path_name, bbox_inches='tight', pad_inches=0)\n",
        "\n",
        "# create the new directory for the spectrograms if it doesn't exist yet\n",
        "if not os.path.exists(new_data_path):\n",
        "  print(f\"Creating new directory: {new_data_path}\")\n",
        "  os.mkdir(new_data_path)\n",
        "\n",
        "# go through each category folder of the wav file and generate their respective\n",
        "# spectrogram\n",
        "for category in os.listdir(dataset_path):\n",
        "  print(f\"Generating spectrogram for genre: {category}\")\n",
        "  genre_dir_path = f\"{new_data_path}/{category}\"\n",
        "\n",
        "  if not os.path.exists(genre_dir_path):\n",
        "    os.mkdir(genre_dir_path)\n",
        "\n",
        "  for root_dir, directories, files in os.walk(os.path.join(dataset_path, category)):\n",
        "    for music_file in files:\n",
        "      music_file_path = os.path.join(root_dir, music_file)\n",
        "      spectrogram_path_name = f\"{genre_dir_path}/{music_file}.png\"\n",
        "\n",
        "      if not os.path.exists(spectrogram_path_name):\n",
        "        try:\n",
        "          # convert the audio file to wave and sample rate\n",
        "          # create and save the figure of spectrogram\n",
        "          SPEECH_WAVEFORM, SAMPLE_RATE = torchaudio.load(download_asset(music_file_path))\n",
        "          spectrogram = T.Spectrogram(n_fft=600)\n",
        "          spec = spectrogram(SPEECH_WAVEFORM)\n",
        "          plt.figure(figsize=(6, 6))\n",
        "          plot_spectrogram(spec[0], spectrogram_path_name)\n",
        "          plt.close(fig=\"all\")\n",
        "        except:\n",
        "          # knowing the only corrupt file is jazz jazz.00054.wav\n",
        "          # we will convert jazz.00054.wav again just to augmentate corrupt file\n",
        "          # and guarantee a fully balanced dataset\n",
        "          print(f\"Something went wrong while processing the following file: {music_file} will process the one before again for consistency\")\n",
        "          SPEECH_WAVEFORM, SAMPLE_RATE = torchaudio.load(download_asset(f\"{root_dir}/jazz.00053.wav\"))\n",
        "          spectrogram = T.Spectrogram(n_fft=600)\n",
        "          spec = spectrogram(SPEECH_WAVEFORM)\n",
        "          plt.figure(figsize=(6, 6))\n",
        "          plot_spectrogram(spec[0], f\"{genre_dir_path}/jazz.00054.png\")\n",
        "          plt.close(fig=\"all\")"
      ]
    },
    {
      "cell_type": "code",
      "execution_count": null,
      "metadata": {
        "colab": {
          "base_uri": "https://localhost:8080/"
        },
        "id": "vcgBFEdGrU2P",
        "outputId": "715a4a50-716f-4f3f-812c-575a6d9ed691"
      },
      "outputs": [
        {
          "name": "stdout",
          "output_type": "stream",
          "text": [
            "Using cuda device\n"
          ]
        }
      ],
      "source": [
        "# Defining constants\n",
        "TRAINING_SIZE = 0.8\n",
        "TEST_SIZE = 1 - TRAINING_SIZE\n",
        "NUM_EPOCHS = 25\n",
        "# the resizing dimensions\n",
        "DIM = (256, 256)\n",
        "BATCH_SIZE = 8\n",
        "device = torch.device(\"cuda\" if torch.cuda.is_available() else \"cpu\")\n",
        "print(f\"Using {device} device\")\n"
      ]
    },
    {
      "cell_type": "code",
      "execution_count": null,
      "metadata": {
        "colab": {
          "base_uri": "https://localhost:8080/"
        },
        "id": "KT-vxP0QI74n",
        "outputId": "4745663b-e4ee-4aee-b29c-8ea9fe92c973"
      },
      "outputs": [
        {
          "name": "stdout",
          "output_type": "stream",
          "text": [
            "Dataset length: 1000, train size (80%): 800, test size (20%): 200\n",
            "Number of training samples: 800\n",
            "Number of test samples: 200\n"
          ]
        }
      ],
      "source": [
        "# Split the dataset into train and test\n",
        "# Hint: This is very similar to assignment 2\n",
        "\n",
        "class GenreImageDataset(Dataset):\n",
        "  def __init__(self, dataset_path: str, transforms=None):\n",
        "    super(GenreImageDataset, self).__init__()\n",
        "    # use the ImageFolder class to clasify images from the root folder and transform them\n",
        "    self.dataset = ImageFolder(root=dataset_path, transform=transforms)\n",
        "\n",
        "  def __len__(self):\n",
        "    return len(self.dataset)\n",
        "\n",
        "  def __getitem__(self, index):\n",
        "    return self.dataset[index]\n",
        "\n",
        "# transformations: resizing, tensor, and normalize the images from [-1, 1]\n",
        "image_transformation = transforms.Compose([transforms.Resize(DIM), transforms.ToTensor(), transforms.Normalize((0.5, 0.5, 0.5), (0.5, 0.5, 0.5))])\n",
        "dataset = GenreImageDataset(new_data_path, image_transformation)\n",
        "train_size = int(TRAINING_SIZE * len(dataset))\n",
        "test_size = len(dataset) - train_size\n",
        "print(f\"Dataset length: {len(dataset)}, train size (80%): {train_size}, test size (20%): {test_size}\")\n",
        "\n",
        "train_dataset, test_dataset = random_split(dataset, [train_size, test_size])\n",
        "print(f\"Number of training samples: {len(train_dataset)}\")\n",
        "print(f\"Number of test samples: {len(test_dataset)}\")\n",
        "\n",
        "train_dataLoader = DataLoader(train_dataset, batch_size=BATCH_SIZE, shuffle=True)\n",
        "test_dataLoader = DataLoader(test_dataset, batch_size=BATCH_SIZE, shuffle=True)"
      ]
    },
    {
      "cell_type": "code",
      "execution_count": null,
      "metadata": {
        "colab": {
          "base_uri": "https://localhost:8080/",
          "height": 1000
        },
        "id": "gE71Je3yghfo",
        "outputId": "cb1afe5f-3d8b-4396-a91f-12b1de4f72fb"
      },
      "outputs": [
        {
          "data": {
            "image/png": "[encoded data removed]",
            "text/plain": [
              "<Figure size 1200x800 with 1 Axes>"
            ]
          },
          "metadata": {},
          "output_type": "display_data"
        },
        {
          "name": "stdout",
          "output_type": "stream",
          "text": [
            "\n"
          ]
        },
        {
          "data": {
            "image/png": "[encoded data removed]",
            "text/plain": [
              "<Figure size 1200x800 with 1 Axes>"
            ]
          },
          "metadata": {},
          "output_type": "display_data"
        }
      ],
      "source": [
        "# Any additional preproccessing\n",
        "\n",
        "# Graphhing the distribution of the train and test set\n",
        "train_tensor = torch.tensor([item[1] for item in train_dataset], dtype=torch.long)\n",
        "test_tensor = torch.tensor([item[1] for item in test_dataset], dtype=torch.long)\n",
        "\n",
        "train_emotion_counts = train_tensor.bincount()\n",
        "plt.figure(figsize=(12, 8))\n",
        "plt.bar(categories, train_emotion_counts)\n",
        "plt.title('Genre distribution in Training Data')\n",
        "plt.xlabel('Genre Class')\n",
        "plt.ylabel('Total Count')\n",
        "plt.show()\n",
        "\n",
        "print()\n",
        "\n",
        "test_emotion_count = test_tensor.bincount()\n",
        "plt.figure(figsize=(12, 8))\n",
        "plt.bar(categories, test_emotion_count)\n",
        "plt.title('Genre distribution in Test Data')\n",
        "plt.xlabel('Genre Class')\n",
        "plt.ylabel('Total Count')\n",
        "plt.show()"
      ]
    },
    {
      "cell_type": "code",
      "execution_count": null,
      "metadata": {
        "id": "w6MaSJdGZCs5"
      },
      "outputs": [],
      "source": [
        "# define the default learning rate and weight decay for both the proposed and pretrained model\n",
        "learning_rate = 1e-3\n",
        "weight_decay = 1e-4\n",
        "\n",
        "# NOTE: the learning rate scheduling was taken from Anthony's Tutorial and was inspired to be used here\n",
        "# It allowed the model to train more effeciently as it adjusted the learning rate to keep the loss at a minimum\n",
        "\n",
        "# function for adjusting the learning rate per epoch\n",
        "# it defines the half-cycle cosine decay schedule per step on each epoch\n",
        "# it will adjust the learning rate during the training of the model to help the model coverage to a better minimum\n",
        "def adjust_learning_rate(step, sched_config):\n",
        "    \"\"\"Decay the learning rate with half-cycle cosine after warmup\"\"\"\n",
        "    if step < sched_config[\"warmup_steps\"]:\n",
        "        lr = sched_config[\"max_lr\"] * step / sched_config[\"warmup_steps\"]\n",
        "    else:\n",
        "        lr = sched_config[\"min_lr\"] + (\n",
        "            sched_config[\"max_lr\"] - sched_config[\"min_lr\"]\n",
        "        ) * 0.5 * (\n",
        "            1.0\n",
        "            + math.cos(\n",
        "                math.pi\n",
        "                * (step - sched_config[\"warmup_steps\"])\n",
        "                / (sched_config[\"total_steps\"] - sched_config[\"warmup_steps\"])\n",
        "            )\n",
        "        )\n",
        "    return lr\n",
        "\n",
        "# obtain the learning rate from the optimizer\n",
        "def get_learning_rate(optimizer):\n",
        "    for param_group in optimizer.param_groups:\n",
        "        return param_group[\"lr\"]"
      ]
    },
    {
      "cell_type": "code",
      "execution_count": null,
      "metadata": {
        "id": "PSWChVZwlqI2"
      },
      "outputs": [],
      "source": [
        "# universal function for training a model per epoch. Generlized to take any loss function and optimizer\n",
        "# for reusability purposes as both the proposed model and pretrained model will use the same training algorithm\n",
        "def train_model_per_epoch(model, loss_function, optimizer):\n",
        "  # initalize the parameters to use for adjusting the learning rate\n",
        "  # step counter is the current epoch iteration step count\n",
        "  # warmup step is used to maximize the learning rate and decrease it for the model per epoch\n",
        "  step_counter = 0\n",
        "  total_steps = len(train_dataLoader) * NUM_EPOCHS\n",
        "  warmup_steps = int(total_steps*0.1)\n",
        "  print(f\"Total Steps: {total_steps}\")\n",
        "  print(f\"Warmup Steps: {warmup_steps}\")\n",
        "  sched_config = {\n",
        "      \"max_lr\": learning_rate,\n",
        "      \"min_lr\": 0,\n",
        "      \"total_steps\": total_steps,\n",
        "      \"warmup_steps\": warmup_steps,\n",
        "  }\n",
        "\n",
        "  # ensures that cuda is available to allocate to gpu\n",
        "  if torch.cuda.is_available():\n",
        "    model = model.cuda()\n",
        "    loss_function = loss_function.cuda()\n",
        "\n",
        "  # check if the for tensor memory allocation, whether it's to gpu or cpu\n",
        "  model.train()\n",
        "  for epoch in range(NUM_EPOCHS):\n",
        "    print(f\"Training Epoch {epoch+1}/{NUM_EPOCHS}\")\n",
        "    print(\"---------------------------\")\n",
        "    total_loss = 0.0\n",
        "    for input, label in tqdm(train_dataLoader):\n",
        "      # get learning rate according to the schedule\n",
        "      new_learning_rate = adjust_learning_rate(\n",
        "            step=step_counter, sched_config=sched_config\n",
        "        )\n",
        "      # update every parameter group with this new learning rate\n",
        "      for g in optimizer.param_groups:\n",
        "          g[\"lr\"] = new_learning_rate\n",
        "      input, label = input.to(device), label.to(device)\n",
        "      optimizer.zero_grad()\n",
        "      out = model(input)\n",
        "      loss = loss_function(out, label)\n",
        "      loss.backward()\n",
        "      optimizer.step()\n",
        "      total_loss += loss.item()\n",
        "      step_counter += 1\n",
        "\n",
        "    current_lr = get_learning_rate(optimizer)\n",
        "    print(f'Learning Rate: {current_lr:.4f}')\n",
        "\n",
        "    print(f'Loss: {total_loss:.4f}')\n",
        "    print()\n",
        "\n",
        "\n",
        "# returns all labels and predicitions labels that are extracted from some data set\n",
        "# for reusability purposes as the proposed model and pretrained model will use it\n",
        "def evaluate_features(loader, model):\n",
        "    if torch.cuda.is_available():\n",
        "      model = model.cuda()\n",
        "    features = []\n",
        "    true_labels = []\n",
        "    model.eval()\n",
        "    with torch.no_grad():\n",
        "        for inputs, labels in tqdm(loader):\n",
        "            inputs, labels = inputs.to(device), labels.to(device)\n",
        "            features_batch = model(inputs)\n",
        "            _, feature_batch_t = torch.max(features_batch.data, 1)\n",
        "            features.extend(feature_batch_t.cpu().numpy())\n",
        "            true_labels.extend(labels.cpu().numpy())\n",
        "    return features, true_labels\n",
        "\n",
        "\n",
        "# utitlity function for creating the confusion matrix\n",
        "# will take all the actual labels and predicted labels\n",
        "# for reusability purposes as the proposed model and pretrained model will use it\n",
        "def create_confusion_matrix(actual_labels, predicted_labels):\n",
        "  cm = confusion_matrix(actual_labels, predicted_labels)\n",
        "\n",
        "  plt.figure(figsize=(8,6))\n",
        "  ax = sns.heatmap(cm, annot=True, fmt='d', )\n",
        "\n",
        "  ax.set_xlabel(\"Predicted\", fontsize=14, labelpad=20)\n",
        "  ax.set_ylabel(\"Actual\", fontsize=14, labelpad=20)\n",
        "\n",
        "  ax.xaxis.set_ticklabels(categories)\n",
        "  ax.yaxis.set_ticklabels(categories)\n",
        "\n",
        "  ax.set_title(\"Confusion Matrix for actual vs predicted images test\", fontsize=14, pad=20)\n",
        "\n",
        "  plt.show()"
      ]
    },
    {
      "cell_type": "code",
      "execution_count": null,
      "metadata": {
        "id": "I8UuvwUyHkTN"
      },
      "outputs": [],
      "source": [
        "# Define your model\n",
        "class CNNModel(nn.Module):\n",
        "  def __init__(self):\n",
        "    super(CNNModel, self).__init__()\n",
        "    # use kernel 5 for large feature extraction, and padding 2 to keep the spatial dimension of the original image\n",
        "    # for example, each convolutional layer will output the same spatial dimension it takes\n",
        "    kernel_size = 5\n",
        "    max_pool_kernel_size = kernel_size - 1\n",
        "    padding = 2\n",
        "\n",
        "    # convulational layers network for extracting the features of the spectrogram\n",
        "    # goal was to maximize feature extraction while reducing the final out spatial size\n",
        "    self.network = nn.Sequential(\n",
        "        nn.Conv2d(in_channels=3, out_channels=64, kernel_size=kernel_size, padding=padding, stride=1),\n",
        "        nn.ReLU(),\n",
        "        nn.BatchNorm2d(64),\n",
        "        nn.Conv2d(in_channels=64, out_channels=64, kernel_size=kernel_size, padding=padding, stride=1),\n",
        "        nn.ReLU(),\n",
        "        nn.BatchNorm2d(64),\n",
        "        nn.MaxPool2d(kernel_size=max_pool_kernel_size, stride=2),\n",
        "        nn.Conv2d(in_channels=64, out_channels=128, kernel_size=kernel_size, padding=padding, stride=1),\n",
        "        nn.ReLU(),\n",
        "        nn.BatchNorm2d(128),\n",
        "        nn.Conv2d(in_channels=128, out_channels=128, kernel_size=kernel_size, padding=padding, stride=1),\n",
        "        nn.ReLU(),\n",
        "        nn.BatchNorm2d(128),\n",
        "        nn.MaxPool2d(kernel_size=max_pool_kernel_size, stride=2),\n",
        "        nn.Conv2d(in_channels=128, out_channels=256, kernel_size=kernel_size, padding=padding, stride=1),\n",
        "        nn.ReLU(),\n",
        "        nn.BatchNorm2d(256),\n",
        "        nn.Conv2d(in_channels=256, out_channels=256, kernel_size=kernel_size, padding=padding, stride=1),\n",
        "        nn.ReLU(),\n",
        "        nn.BatchNorm2d(256),\n",
        "        nn.MaxPool2d(kernel_size=max_pool_kernel_size, stride=2),\n",
        "        nn.Conv2d(in_channels=256, out_channels=512, kernel_size=kernel_size, padding=padding, stride=1),\n",
        "        nn.ReLU(),\n",
        "        nn.BatchNorm2d(512),\n",
        "        nn.Conv2d(in_channels=512, out_channels=512, kernel_size=kernel_size, padding=padding, stride=1),\n",
        "        nn.ReLU(),\n",
        "        nn.BatchNorm2d(512),\n",
        "        nn.MaxPool2d(kernel_size=max_pool_kernel_size, stride=2),\n",
        "        nn.AdaptiveAvgPool2d(output_size=(7, 7))\n",
        "    )\n",
        "\n",
        "    # obtain the classifier input size\n",
        "    self.classifier_input_size = self._get_classifier_input_size()\n",
        "    print(f\"Classifier input size {self.classifier_input_size}\")\n",
        "\n",
        "    # classifies the output using linear layers\n",
        "    self.classifier = nn.Sequential(\n",
        "        nn.Linear(self.classifier_input_size, 120),\n",
        "        nn.ReLU(),\n",
        "        nn.Linear(120, 120),\n",
        "        nn.ReLU(),\n",
        "        nn.Linear(120, len(categories)),\n",
        "    )\n",
        "\n",
        "  def _get_classifier_input_size(self):\n",
        "      # universal function using a sample input to obtain the input size for the classifier layer\n",
        "      # useful to allow for editting the convolutional network and not have to manually calculate the output\n",
        "      sample_input = torch.randn(BATCH_SIZE, 3, DIM[0], DIM[1])\n",
        "      conv_output = self.network(sample_input)\n",
        "      conv_output_size = conv_output.view(conv_output.size(0), -1).size(1)\n",
        "      return conv_output_size\n",
        "\n",
        "  def forward(self, x):\n",
        "    x = self.network(x)\n",
        "    x = x.view(x.size(0), -1)\n",
        "    x = self.classifier(x)\n",
        "    return x\n"
      ]
    },
    {
      "cell_type": "code",
      "execution_count": null,
      "metadata": {
        "colab": {
          "base_uri": "https://localhost:8080/"
        },
        "id": "d781lOATHney",
        "outputId": "75b83bd6-c7f7-49d1-b78a-372942e9bba6"
      },
      "outputs": [
        {
          "name": "stdout",
          "output_type": "stream",
          "text": [
            "Classifier input size 25088\n"
          ]
        }
      ],
      "source": [
        "# Define your model continue\n",
        "cnn_model2 = CNNModel()"
      ]
    },
    {
      "cell_type": "code",
      "execution_count": null,
      "metadata": {
        "colab": {
          "base_uri": "https://localhost:8080/"
        },
        "id": "kPfRz6l_HxTD",
        "outputId": "c9dabb61-4060-4e3b-bf9f-ca8aa71e6004"
      },
      "outputs": [
        {
          "name": "stdout",
          "output_type": "stream",
          "text": [
            "Total Steps: 2500\n",
            "Warmup Steps: 250\n",
            "Training Epoch 1/25\n",
            "---------------------------\n"
          ]
        },
        {
          "name": "stderr",
          "output_type": "stream",
          "text": [
            "100%|██████████| 100/100 [00:39<00:00,  2.56it/s]\n"
          ]
        },
        {
          "name": "stdout",
          "output_type": "stream",
          "text": [
            "Learning Rate: 0.0004\n",
            "Loss: 220.3545\n",
            "\n",
            "Training Epoch 2/25\n",
            "---------------------------\n"
          ]
        },
        {
          "name": "stderr",
          "output_type": "stream",
          "text": [
            "100%|██████████| 100/100 [00:38<00:00,  2.60it/s]\n"
          ]
        },
        {
          "name": "stdout",
          "output_type": "stream",
          "text": [
            "Learning Rate: 0.0008\n",
            "Loss: 181.8495\n",
            "\n",
            "Training Epoch 3/25\n",
            "---------------------------\n"
          ]
        },
        {
          "name": "stderr",
          "output_type": "stream",
          "text": [
            "100%|██████████| 100/100 [00:39<00:00,  2.56it/s]\n"
          ]
        },
        {
          "name": "stdout",
          "output_type": "stream",
          "text": [
            "Learning Rate: 0.0010\n",
            "Loss: 147.6208\n",
            "\n",
            "Training Epoch 4/25\n",
            "---------------------------\n"
          ]
        },
        {
          "name": "stderr",
          "output_type": "stream",
          "text": [
            "100%|██████████| 100/100 [00:38<00:00,  2.58it/s]\n"
          ]
        },
        {
          "name": "stdout",
          "output_type": "stream",
          "text": [
            "Learning Rate: 0.0010\n",
            "Loss: 122.8704\n",
            "\n",
            "Training Epoch 5/25\n",
            "---------------------------\n"
          ]
        },
        {
          "name": "stderr",
          "output_type": "stream",
          "text": [
            "100%|██████████| 100/100 [00:38<00:00,  2.58it/s]\n"
          ]
        },
        {
          "name": "stdout",
          "output_type": "stream",
          "text": [
            "Learning Rate: 0.0010\n",
            "Loss: 101.8931\n",
            "\n",
            "Training Epoch 6/25\n",
            "---------------------------\n"
          ]
        },
        {
          "name": "stderr",
          "output_type": "stream",
          "text": [
            "100%|██████████| 100/100 [00:38<00:00,  2.59it/s]\n"
          ]
        },
        {
          "name": "stdout",
          "output_type": "stream",
          "text": [
            "Learning Rate: 0.0009\n",
            "Loss: 86.9023\n",
            "\n",
            "Training Epoch 7/25\n",
            "---------------------------\n"
          ]
        },
        {
          "name": "stderr",
          "output_type": "stream",
          "text": [
            "100%|██████████| 100/100 [00:38<00:00,  2.60it/s]\n"
          ]
        },
        {
          "name": "stdout",
          "output_type": "stream",
          "text": [
            "Learning Rate: 0.0009\n",
            "Loss: 77.9676\n",
            "\n",
            "Training Epoch 8/25\n",
            "---------------------------\n"
          ]
        },
        {
          "name": "stderr",
          "output_type": "stream",
          "text": [
            "100%|██████████| 100/100 [00:38<00:00,  2.60it/s]\n"
          ]
        },
        {
          "name": "stdout",
          "output_type": "stream",
          "text": [
            "Learning Rate: 0.0009\n",
            "Loss: 65.4545\n",
            "\n",
            "Training Epoch 9/25\n",
            "---------------------------\n"
          ]
        },
        {
          "name": "stderr",
          "output_type": "stream",
          "text": [
            "100%|██████████| 100/100 [00:38<00:00,  2.60it/s]\n"
          ]
        },
        {
          "name": "stdout",
          "output_type": "stream",
          "text": [
            "Learning Rate: 0.0008\n",
            "Loss: 57.0133\n",
            "\n",
            "Training Epoch 10/25\n",
            "---------------------------\n"
          ]
        },
        {
          "name": "stderr",
          "output_type": "stream",
          "text": [
            "100%|██████████| 100/100 [00:38<00:00,  2.60it/s]\n"
          ]
        },
        {
          "name": "stdout",
          "output_type": "stream",
          "text": [
            "Learning Rate: 0.0008\n",
            "Loss: 49.4172\n",
            "\n",
            "Training Epoch 11/25\n",
            "---------------------------\n"
          ]
        },
        {
          "name": "stderr",
          "output_type": "stream",
          "text": [
            "100%|██████████| 100/100 [00:38<00:00,  2.61it/s]\n"
          ]
        },
        {
          "name": "stdout",
          "output_type": "stream",
          "text": [
            "Learning Rate: 0.0007\n",
            "Loss: 37.3566\n",
            "\n",
            "Training Epoch 12/25\n",
            "---------------------------\n"
          ]
        },
        {
          "name": "stderr",
          "output_type": "stream",
          "text": [
            "100%|██████████| 100/100 [00:38<00:00,  2.59it/s]\n"
          ]
        },
        {
          "name": "stdout",
          "output_type": "stream",
          "text": [
            "Learning Rate: 0.0006\n",
            "Loss: 29.9359\n",
            "\n",
            "Training Epoch 13/25\n",
            "---------------------------\n"
          ]
        },
        {
          "name": "stderr",
          "output_type": "stream",
          "text": [
            "100%|██████████| 100/100 [00:38<00:00,  2.61it/s]\n"
          ]
        },
        {
          "name": "stdout",
          "output_type": "stream",
          "text": [
            "Learning Rate: 0.0006\n",
            "Loss: 23.5884\n",
            "\n",
            "Training Epoch 14/25\n",
            "---------------------------\n"
          ]
        },
        {
          "name": "stderr",
          "output_type": "stream",
          "text": [
            "100%|██████████| 100/100 [00:38<00:00,  2.60it/s]\n"
          ]
        },
        {
          "name": "stdout",
          "output_type": "stream",
          "text": [
            "Learning Rate: 0.0005\n",
            "Loss: 19.6710\n",
            "\n",
            "Training Epoch 15/25\n",
            "---------------------------\n"
          ]
        },
        {
          "name": "stderr",
          "output_type": "stream",
          "text": [
            "100%|██████████| 100/100 [00:38<00:00,  2.61it/s]\n"
          ]
        },
        {
          "name": "stdout",
          "output_type": "stream",
          "text": [
            "Learning Rate: 0.0004\n",
            "Loss: 15.6355\n",
            "\n",
            "Training Epoch 16/25\n",
            "---------------------------\n"
          ]
        },
        {
          "name": "stderr",
          "output_type": "stream",
          "text": [
            "100%|██████████| 100/100 [00:38<00:00,  2.60it/s]\n"
          ]
        },
        {
          "name": "stdout",
          "output_type": "stream",
          "text": [
            "Learning Rate: 0.0003\n",
            "Loss: 12.4838\n",
            "\n",
            "Training Epoch 17/25\n",
            "---------------------------\n"
          ]
        },
        {
          "name": "stderr",
          "output_type": "stream",
          "text": [
            "100%|██████████| 100/100 [00:38<00:00,  2.60it/s]\n"
          ]
        },
        {
          "name": "stdout",
          "output_type": "stream",
          "text": [
            "Learning Rate: 0.0003\n",
            "Loss: 11.0505\n",
            "\n",
            "Training Epoch 18/25\n",
            "---------------------------\n"
          ]
        },
        {
          "name": "stderr",
          "output_type": "stream",
          "text": [
            "100%|██████████| 100/100 [00:38<00:00,  2.60it/s]\n"
          ]
        },
        {
          "name": "stdout",
          "output_type": "stream",
          "text": [
            "Learning Rate: 0.0002\n",
            "Loss: 8.8772\n",
            "\n",
            "Training Epoch 19/25\n",
            "---------------------------\n"
          ]
        },
        {
          "name": "stderr",
          "output_type": "stream",
          "text": [
            "100%|██████████| 100/100 [00:38<00:00,  2.60it/s]\n"
          ]
        },
        {
          "name": "stdout",
          "output_type": "stream",
          "text": [
            "Learning Rate: 0.0002\n",
            "Loss: 8.0465\n",
            "\n",
            "Training Epoch 20/25\n",
            "---------------------------\n"
          ]
        },
        {
          "name": "stderr",
          "output_type": "stream",
          "text": [
            "100%|██████████| 100/100 [00:38<00:00,  2.59it/s]\n"
          ]
        },
        {
          "name": "stdout",
          "output_type": "stream",
          "text": [
            "Learning Rate: 0.0001\n",
            "Loss: 8.2876\n",
            "\n",
            "Training Epoch 21/25\n",
            "---------------------------\n"
          ]
        },
        {
          "name": "stderr",
          "output_type": "stream",
          "text": [
            "100%|██████████| 100/100 [00:38<00:00,  2.60it/s]\n"
          ]
        },
        {
          "name": "stdout",
          "output_type": "stream",
          "text": [
            "Learning Rate: 0.0001\n",
            "Loss: 7.3391\n",
            "\n",
            "Training Epoch 22/25\n",
            "---------------------------\n"
          ]
        },
        {
          "name": "stderr",
          "output_type": "stream",
          "text": [
            "100%|██████████| 100/100 [00:38<00:00,  2.60it/s]\n"
          ]
        },
        {
          "name": "stdout",
          "output_type": "stream",
          "text": [
            "Learning Rate: 0.0000\n",
            "Loss: 7.4263\n",
            "\n",
            "Training Epoch 23/25\n",
            "---------------------------\n"
          ]
        },
        {
          "name": "stderr",
          "output_type": "stream",
          "text": [
            "100%|██████████| 100/100 [00:38<00:00,  2.60it/s]\n"
          ]
        },
        {
          "name": "stdout",
          "output_type": "stream",
          "text": [
            "Learning Rate: 0.0000\n",
            "Loss: 7.0854\n",
            "\n",
            "Training Epoch 24/25\n",
            "---------------------------\n"
          ]
        },
        {
          "name": "stderr",
          "output_type": "stream",
          "text": [
            "100%|██████████| 100/100 [00:38<00:00,  2.60it/s]\n"
          ]
        },
        {
          "name": "stdout",
          "output_type": "stream",
          "text": [
            "Learning Rate: 0.0000\n",
            "Loss: 6.3709\n",
            "\n",
            "Training Epoch 25/25\n",
            "---------------------------\n"
          ]
        },
        {
          "name": "stderr",
          "output_type": "stream",
          "text": [
            "100%|██████████| 100/100 [00:38<00:00,  2.60it/s]"
          ]
        },
        {
          "name": "stdout",
          "output_type": "stream",
          "text": [
            "Learning Rate: 0.0000\n",
            "Loss: 6.6938\n",
            "\n"
          ]
        },
        {
          "name": "stderr",
          "output_type": "stream",
          "text": [
            "\n"
          ]
        }
      ],
      "source": [
        "# Define your model continue\n",
        "# uses CrossEntropyLoss for loss function and SGD with adjustable learning rate and weight decay\n",
        "loss_function = nn.CrossEntropyLoss()\n",
        "optimizer = optim.SGD(cnn_model2.parameters(), lr=learning_rate, weight_decay=weight_decay)\n",
        "train_model_per_epoch(cnn_model2, loss_function, optimizer)"
      ]
    },
    {
      "cell_type": "code",
      "execution_count": null,
      "metadata": {
        "colab": {
          "base_uri": "https://localhost:8080/"
        },
        "id": "KiPNNuFNNJQi",
        "outputId": "5eb7c81b-3294-4f80-ebbe-946e6956e19a"
      },
      "outputs": [
        {
          "name": "stderr",
          "output_type": "stream",
          "text": [
            "100%|██████████| 100/100 [00:18<00:00,  5.33it/s]\n",
            "100%|██████████| 25/25 [00:05<00:00,  4.90it/s]\n"
          ]
        }
      ],
      "source": [
        "# Define your model continue\n",
        "# extract the training features using the train set and the test features using the test set\n",
        "# these features and labels will be used to fit the svm and let the svm predict more using the extracted unseen data of the test set\n",
        "train_features, train_labels = evaluate_features(train_dataLoader, cnn_model2)\n",
        "test_features, test_labels = evaluate_features(test_dataLoader, cnn_model2)"
      ]
    },
    {
      "cell_type": "code",
      "execution_count": null,
      "metadata": {
        "colab": {
          "base_uri": "https://localhost:8080/"
        },
        "id": "rrnHdNkJYg_x",
        "outputId": "f9208de6-2336-4cc3-e04a-85af90ab8051"
      },
      "outputs": [
        {
          "name": "stdout",
          "output_type": "stream",
          "text": [
            "Best parameters through grid search: {'C': 0.1, 'gamma': 1}\n",
            "Accuracy is 82.00%\n"
          ]
        }
      ],
      "source": [
        "# Define your model continue\n",
        "scaler = StandardScaler()\n",
        "\n",
        "# convert the features and labels to numpy arrays\n",
        "train_features = np.array(train_features)\n",
        "train_labels = np.array(train_labels)\n",
        "\n",
        "test_features = np.array(test_features)\n",
        "test_labels = np.array(test_labels)\n",
        "\n",
        "# Reshape train_features and test_features to a 2D array that corresponds to their respective labels\n",
        "# this is necessary as to fit and predict to the svm, it expects certain dimensions and match between the features and respective labels\n",
        "train_features = train_features.reshape(len(train_labels), -1)\n",
        "test_features = test_features.reshape(len(test_labels), -1)\n",
        "\n",
        "# scale the features\n",
        "train_features = scaler.fit_transform(train_features)\n",
        "test_features = scaler.transform(test_features)\n",
        "\n",
        "\n",
        "svm_classifier = SVC(kernel=\"rbf\")\n",
        "\n",
        "# Define the parameters to use for the grid search\n",
        "param_grid = {\n",
        "    'C': [0.1, 1, 5, 10],\n",
        "    'gamma': [0.0001, 0.001, 0.01, 0.1, 1],\n",
        "}\n",
        "\n",
        "# Perform Grid Search CV using pytorch built in grid search algorithm\n",
        "# it uses cross validation 10 for evaluating each combination of hyperparameters and determining the best score for accuracy\n",
        "grid_search = GridSearchCV(svm_classifier, param_grid, cv=10, scoring='accuracy')\n",
        "\n",
        "grid_search.fit(train_features, train_labels)\n",
        "\n",
        "# Get the best parameters and best estimator to predict with\n",
        "best_params = grid_search.best_params_\n",
        "print(f\"Best parameters through grid search: {best_params}\")\n",
        "best_estimator = grid_search.best_estimator_\n",
        "\n",
        "test_predictions = best_estimator.predict(test_features)\n",
        "\n",
        "# get the accuracy of the final result after the cnn model and svm model\n",
        "accuracy = accuracy_score(test_labels, test_predictions)\n",
        "print(f\"Accuracy is {accuracy*100:.2f}%\")"
      ]
    },
    {
      "cell_type": "code",
      "execution_count": null,
      "metadata": {
        "colab": {
          "base_uri": "https://localhost:8080/",
          "height": 612
        },
        "id": "7RI4se0ThPoP",
        "outputId": "6f89a0c9-5efb-43f0-d0cc-50a4ed1dc55a"
      },
      "outputs": [
        {
          "data": {
            "image/png": "[encoded data removed]",
            "text/plain": [
              "<Figure size 800x600 with 2 Axes>"
            ]
          },
          "metadata": {},
          "output_type": "display_data"
        }
      ],
      "source": [
        "# Compute and plot the confusion matrix\n",
        "create_confusion_matrix(test_labels, test_predictions)"
      ]
    },
    {
      "cell_type": "markdown",
      "metadata": {
        "id": "lyY4lATzCmsf"
      },
      "source": [
        "# pretrained model comparison using VG19"
      ]
    },
    {
      "cell_type": "code",
      "execution_count": null,
      "metadata": {
        "id": "QCq6n5_FjJef"
      },
      "outputs": [],
      "source": [
        "# Pretrained models and pretrained weights\n",
        "import torchvision.models as models\n"
      ]
    },
    {
      "cell_type": "code",
      "execution_count": null,
      "metadata": {
        "colab": {
          "base_uri": "https://localhost:8080/"
        },
        "id": "c7A5XTqrCnCf",
        "outputId": "288922fd-5212-43b6-c11c-0c43bf0f1c4e"
      },
      "outputs": [
        {
          "name": "stderr",
          "output_type": "stream",
          "text": [
            "Downloading: \"https://download.pytorch.org/models/vgg19-dcbb9e9d.pth\" to /root/.cache/torch/hub/checkpoints/vgg19-dcbb9e9d.pth\n",
            "100%|██████████| 548M/548M [00:06<00:00, 83.6MB/s]\n"
          ]
        },
        {
          "name": "stdout",
          "output_type": "stream",
          "text": [
            "VGG(\n",
            "  (features): Sequential(\n",
            "    (0): Conv2d(3, 64, kernel_size=(3, 3), stride=(1, 1), padding=(1, 1))\n",
            "    (1): ReLU(inplace=True)\n",
            "    (2): Conv2d(64, 64, kernel_size=(3, 3), stride=(1, 1), padding=(1, 1))\n",
            "    (3): ReLU(inplace=True)\n",
            "    (4): MaxPool2d(kernel_size=2, stride=2, padding=0, dilation=1, ceil_mode=False)\n",
            "    (5): Conv2d(64, 128, kernel_size=(3, 3), stride=(1, 1), padding=(1, 1))\n",
            "    (6): ReLU(inplace=True)\n",
            "    (7): Conv2d(128, 128, kernel_size=(3, 3), stride=(1, 1), padding=(1, 1))\n",
            "    (8): ReLU(inplace=True)\n",
            "    (9): MaxPool2d(kernel_size=2, stride=2, padding=0, dilation=1, ceil_mode=False)\n",
            "    (10): Conv2d(128, 256, kernel_size=(3, 3), stride=(1, 1), padding=(1, 1))\n",
            "    (11): ReLU(inplace=True)\n",
            "    (12): Conv2d(256, 256, kernel_size=(3, 3), stride=(1, 1), padding=(1, 1))\n",
            "    (13): ReLU(inplace=True)\n",
            "    (14): Conv2d(256, 256, kernel_size=(3, 3), stride=(1, 1), padding=(1, 1))\n",
            "    (15): ReLU(inplace=True)\n",
            "    (16): Conv2d(256, 256, kernel_size=(3, 3), stride=(1, 1), padding=(1, 1))\n",
            "    (17): ReLU(inplace=True)\n",
            "    (18): MaxPool2d(kernel_size=2, stride=2, padding=0, dilation=1, ceil_mode=False)\n",
            "    (19): Conv2d(256, 512, kernel_size=(3, 3), stride=(1, 1), padding=(1, 1))\n",
            "    (20): ReLU(inplace=True)\n",
            "    (21): Conv2d(512, 512, kernel_size=(3, 3), stride=(1, 1), padding=(1, 1))\n",
            "    (22): ReLU(inplace=True)\n",
            "    (23): Conv2d(512, 512, kernel_size=(3, 3), stride=(1, 1), padding=(1, 1))\n",
            "    (24): ReLU(inplace=True)\n",
            "    (25): Conv2d(512, 512, kernel_size=(3, 3), stride=(1, 1), padding=(1, 1))\n",
            "    (26): ReLU(inplace=True)\n",
            "    (27): MaxPool2d(kernel_size=2, stride=2, padding=0, dilation=1, ceil_mode=False)\n",
            "    (28): Conv2d(512, 512, kernel_size=(3, 3), stride=(1, 1), padding=(1, 1))\n",
            "    (29): ReLU(inplace=True)\n",
            "    (30): Conv2d(512, 512, kernel_size=(3, 3), stride=(1, 1), padding=(1, 1))\n",
            "    (31): ReLU(inplace=True)\n",
            "    (32): Conv2d(512, 512, kernel_size=(3, 3), stride=(1, 1), padding=(1, 1))\n",
            "    (33): ReLU(inplace=True)\n",
            "    (34): Conv2d(512, 512, kernel_size=(3, 3), stride=(1, 1), padding=(1, 1))\n",
            "    (35): ReLU(inplace=True)\n",
            "    (36): MaxPool2d(kernel_size=2, stride=2, padding=0, dilation=1, ceil_mode=False)\n",
            "  )\n",
            "  (avgpool): AdaptiveAvgPool2d(output_size=(7, 7))\n",
            "  (classifier): Sequential(\n",
            "    (0): Linear(in_features=25088, out_features=4096, bias=True)\n",
            "    (1): ReLU(inplace=True)\n",
            "    (2): Dropout(p=0.5, inplace=False)\n",
            "    (3): Linear(in_features=4096, out_features=4096, bias=True)\n",
            "    (4): ReLU(inplace=True)\n",
            "    (5): Dropout(p=0.5, inplace=False)\n",
            "    (6): Linear(in_features=4096, out_features=10, bias=True)\n",
            "  )\n",
            ")\n"
          ]
        }
      ],
      "source": [
        "# Define the pretrained model\n",
        "\n",
        "# pretrained model defined with the default weights\n",
        "weights = models.VGG19_Weights.DEFAULT\n",
        "vgg19_model = models.vgg19(weights=weights)\n",
        "\n",
        "# slightly tweaked on the last classifier to change it's classifer output from 1000 features to the number of features of the assignment (10)\n",
        "vgg19_model.classifier[-1] = torch.nn.Linear(4096, len(categories))\n",
        "\n",
        "print(vgg19_model)"
      ]
    },
    {
      "cell_type": "code",
      "execution_count": null,
      "metadata": {
        "colab": {
          "base_uri": "https://localhost:8080/"
        },
        "id": "5tfBsrMqiwLf",
        "outputId": "600a299b-c68f-4b0c-e94c-0746009413e6"
      },
      "outputs": [
        {
          "name": "stdout",
          "output_type": "stream",
          "text": [
            "Total Steps: 2500\n",
            "Warmup Steps: 250\n",
            "Training Epoch 1/25\n",
            "---------------------------\n"
          ]
        },
        {
          "name": "stderr",
          "output_type": "stream",
          "text": [
            "100%|██████████| 100/100 [00:35<00:00,  2.85it/s]\n"
          ]
        },
        {
          "name": "stdout",
          "output_type": "stream",
          "text": [
            "Learning Rate: 0.0004\n",
            "Loss: 231.6040\n",
            "\n",
            "Training Epoch 2/25\n",
            "---------------------------\n"
          ]
        },
        {
          "name": "stderr",
          "output_type": "stream",
          "text": [
            "100%|██████████| 100/100 [00:33<00:00,  3.02it/s]\n"
          ]
        },
        {
          "name": "stdout",
          "output_type": "stream",
          "text": [
            "Learning Rate: 0.0008\n",
            "Loss: 219.6742\n",
            "\n",
            "Training Epoch 3/25\n",
            "---------------------------\n"
          ]
        },
        {
          "name": "stderr",
          "output_type": "stream",
          "text": [
            "100%|██████████| 100/100 [00:35<00:00,  2.82it/s]\n"
          ]
        },
        {
          "name": "stdout",
          "output_type": "stream",
          "text": [
            "Learning Rate: 0.0010\n",
            "Loss: 185.2634\n",
            "\n",
            "Training Epoch 4/25\n",
            "---------------------------\n"
          ]
        },
        {
          "name": "stderr",
          "output_type": "stream",
          "text": [
            "100%|██████████| 100/100 [00:33<00:00,  3.01it/s]\n"
          ]
        },
        {
          "name": "stdout",
          "output_type": "stream",
          "text": [
            "Learning Rate: 0.0010\n",
            "Loss: 149.8785\n",
            "\n",
            "Training Epoch 5/25\n",
            "---------------------------\n"
          ]
        },
        {
          "name": "stderr",
          "output_type": "stream",
          "text": [
            "100%|██████████| 100/100 [00:32<00:00,  3.04it/s]\n"
          ]
        },
        {
          "name": "stdout",
          "output_type": "stream",
          "text": [
            "Learning Rate: 0.0010\n",
            "Loss: 127.2346\n",
            "\n",
            "Training Epoch 6/25\n",
            "---------------------------\n"
          ]
        },
        {
          "name": "stderr",
          "output_type": "stream",
          "text": [
            "100%|██████████| 100/100 [00:33<00:00,  3.01it/s]\n"
          ]
        },
        {
          "name": "stdout",
          "output_type": "stream",
          "text": [
            "Learning Rate: 0.0009\n",
            "Loss: 108.6377\n",
            "\n",
            "Training Epoch 7/25\n",
            "---------------------------\n"
          ]
        },
        {
          "name": "stderr",
          "output_type": "stream",
          "text": [
            "100%|██████████| 100/100 [00:33<00:00,  3.01it/s]\n"
          ]
        },
        {
          "name": "stdout",
          "output_type": "stream",
          "text": [
            "Learning Rate: 0.0009\n",
            "Loss: 101.3484\n",
            "\n",
            "Training Epoch 8/25\n",
            "---------------------------\n"
          ]
        },
        {
          "name": "stderr",
          "output_type": "stream",
          "text": [
            "100%|██████████| 100/100 [00:33<00:00,  3.01it/s]\n"
          ]
        },
        {
          "name": "stdout",
          "output_type": "stream",
          "text": [
            "Learning Rate: 0.0009\n",
            "Loss: 85.3242\n",
            "\n",
            "Training Epoch 9/25\n",
            "---------------------------\n"
          ]
        },
        {
          "name": "stderr",
          "output_type": "stream",
          "text": [
            "100%|██████████| 100/100 [00:33<00:00,  3.02it/s]\n"
          ]
        },
        {
          "name": "stdout",
          "output_type": "stream",
          "text": [
            "Learning Rate: 0.0008\n",
            "Loss: 74.8536\n",
            "\n",
            "Training Epoch 10/25\n",
            "---------------------------\n"
          ]
        },
        {
          "name": "stderr",
          "output_type": "stream",
          "text": [
            "100%|██████████| 100/100 [00:33<00:00,  2.98it/s]\n"
          ]
        },
        {
          "name": "stdout",
          "output_type": "stream",
          "text": [
            "Learning Rate: 0.0008\n",
            "Loss: 64.8347\n",
            "\n",
            "Training Epoch 11/25\n",
            "---------------------------\n"
          ]
        },
        {
          "name": "stderr",
          "output_type": "stream",
          "text": [
            "100%|██████████| 100/100 [00:33<00:00,  3.03it/s]\n"
          ]
        },
        {
          "name": "stdout",
          "output_type": "stream",
          "text": [
            "Learning Rate: 0.0007\n",
            "Loss: 58.4795\n",
            "\n",
            "Training Epoch 12/25\n",
            "---------------------------\n"
          ]
        },
        {
          "name": "stderr",
          "output_type": "stream",
          "text": [
            "100%|██████████| 100/100 [00:33<00:00,  3.01it/s]\n"
          ]
        },
        {
          "name": "stdout",
          "output_type": "stream",
          "text": [
            "Learning Rate: 0.0006\n",
            "Loss: 50.3387\n",
            "\n",
            "Training Epoch 13/25\n",
            "---------------------------\n"
          ]
        },
        {
          "name": "stderr",
          "output_type": "stream",
          "text": [
            "100%|██████████| 100/100 [00:32<00:00,  3.03it/s]\n"
          ]
        },
        {
          "name": "stdout",
          "output_type": "stream",
          "text": [
            "Learning Rate: 0.0006\n",
            "Loss: 43.1544\n",
            "\n",
            "Training Epoch 14/25\n",
            "---------------------------\n"
          ]
        },
        {
          "name": "stderr",
          "output_type": "stream",
          "text": [
            "100%|██████████| 100/100 [00:33<00:00,  3.00it/s]\n"
          ]
        },
        {
          "name": "stdout",
          "output_type": "stream",
          "text": [
            "Learning Rate: 0.0005\n",
            "Loss: 37.2205\n",
            "\n",
            "Training Epoch 15/25\n",
            "---------------------------\n"
          ]
        },
        {
          "name": "stderr",
          "output_type": "stream",
          "text": [
            "100%|██████████| 100/100 [00:32<00:00,  3.03it/s]\n"
          ]
        },
        {
          "name": "stdout",
          "output_type": "stream",
          "text": [
            "Learning Rate: 0.0004\n",
            "Loss: 31.5925\n",
            "\n",
            "Training Epoch 16/25\n",
            "---------------------------\n"
          ]
        },
        {
          "name": "stderr",
          "output_type": "stream",
          "text": [
            "100%|██████████| 100/100 [00:33<00:00,  3.01it/s]\n"
          ]
        },
        {
          "name": "stdout",
          "output_type": "stream",
          "text": [
            "Learning Rate: 0.0003\n",
            "Loss: 27.8786\n",
            "\n",
            "Training Epoch 17/25\n",
            "---------------------------\n"
          ]
        },
        {
          "name": "stderr",
          "output_type": "stream",
          "text": [
            "100%|██████████| 100/100 [00:32<00:00,  3.04it/s]\n"
          ]
        },
        {
          "name": "stdout",
          "output_type": "stream",
          "text": [
            "Learning Rate: 0.0003\n",
            "Loss: 25.6992\n",
            "\n",
            "Training Epoch 18/25\n",
            "---------------------------\n"
          ]
        },
        {
          "name": "stderr",
          "output_type": "stream",
          "text": [
            "100%|██████████| 100/100 [00:33<00:00,  3.01it/s]\n"
          ]
        },
        {
          "name": "stdout",
          "output_type": "stream",
          "text": [
            "Learning Rate: 0.0002\n",
            "Loss: 19.6721\n",
            "\n",
            "Training Epoch 19/25\n",
            "---------------------------\n"
          ]
        },
        {
          "name": "stderr",
          "output_type": "stream",
          "text": [
            "100%|██████████| 100/100 [00:32<00:00,  3.04it/s]\n"
          ]
        },
        {
          "name": "stdout",
          "output_type": "stream",
          "text": [
            "Learning Rate: 0.0002\n",
            "Loss: 17.0707\n",
            "\n",
            "Training Epoch 20/25\n",
            "---------------------------\n"
          ]
        },
        {
          "name": "stderr",
          "output_type": "stream",
          "text": [
            "100%|██████████| 100/100 [00:33<00:00,  3.02it/s]\n"
          ]
        },
        {
          "name": "stdout",
          "output_type": "stream",
          "text": [
            "Learning Rate: 0.0001\n",
            "Loss: 14.7061\n",
            "\n",
            "Training Epoch 21/25\n",
            "---------------------------\n"
          ]
        },
        {
          "name": "stderr",
          "output_type": "stream",
          "text": [
            "100%|██████████| 100/100 [00:32<00:00,  3.05it/s]\n"
          ]
        },
        {
          "name": "stdout",
          "output_type": "stream",
          "text": [
            "Learning Rate: 0.0001\n",
            "Loss: 13.3566\n",
            "\n",
            "Training Epoch 22/25\n",
            "---------------------------\n"
          ]
        },
        {
          "name": "stderr",
          "output_type": "stream",
          "text": [
            "100%|██████████| 100/100 [00:33<00:00,  3.02it/s]\n"
          ]
        },
        {
          "name": "stdout",
          "output_type": "stream",
          "text": [
            "Learning Rate: 0.0000\n",
            "Loss: 13.3784\n",
            "\n",
            "Training Epoch 23/25\n",
            "---------------------------\n"
          ]
        },
        {
          "name": "stderr",
          "output_type": "stream",
          "text": [
            "100%|██████████| 100/100 [00:32<00:00,  3.04it/s]\n"
          ]
        },
        {
          "name": "stdout",
          "output_type": "stream",
          "text": [
            "Learning Rate: 0.0000\n",
            "Loss: 11.8108\n",
            "\n",
            "Training Epoch 24/25\n",
            "---------------------------\n"
          ]
        },
        {
          "name": "stderr",
          "output_type": "stream",
          "text": [
            "100%|██████████| 100/100 [00:33<00:00,  3.02it/s]\n"
          ]
        },
        {
          "name": "stdout",
          "output_type": "stream",
          "text": [
            "Learning Rate: 0.0000\n",
            "Loss: 10.0124\n",
            "\n",
            "Training Epoch 25/25\n",
            "---------------------------\n"
          ]
        },
        {
          "name": "stderr",
          "output_type": "stream",
          "text": [
            "100%|██████████| 100/100 [00:32<00:00,  3.04it/s]"
          ]
        },
        {
          "name": "stdout",
          "output_type": "stream",
          "text": [
            "Learning Rate: 0.0000\n",
            "Loss: 11.7734\n",
            "\n"
          ]
        },
        {
          "name": "stderr",
          "output_type": "stream",
          "text": [
            "\n"
          ]
        }
      ],
      "source": [
        "# defining the loss function, optimizer and Train it\n",
        "loss_function = nn.CrossEntropyLoss()\n",
        "optimizer = optim.SGD(vgg19_model.parameters(), lr=learning_rate, weight_decay=weight_decay)\n",
        "train_model_per_epoch(vgg19_model, loss_function, optimizer)"
      ]
    },
    {
      "cell_type": "code",
      "execution_count": null,
      "metadata": {
        "colab": {
          "base_uri": "https://localhost:8080/"
        },
        "id": "10N4ZEGjiwIv",
        "outputId": "4749313c-06d0-42e0-af3f-258b0aaef160"
      },
      "outputs": [
        {
          "name": "stderr",
          "output_type": "stream",
          "text": [
            "100%|██████████| 25/25 [00:05<00:00,  4.81it/s]"
          ]
        },
        {
          "name": "stdout",
          "output_type": "stream",
          "text": [
            "Accuracy is 78.50%\n"
          ]
        },
        {
          "name": "stderr",
          "output_type": "stream",
          "text": [
            "\n"
          ]
        }
      ],
      "source": [
        "# Test the model using the same chosen metric as your own model\n",
        "predicted_labels, actual_labels = evaluate_features(test_dataLoader, vgg19_model)\n",
        "accuracy = accuracy_score(actual_labels, predicted_labels)\n",
        "print(f\"Accuracy is {accuracy*100:.2f}%\")"
      ]
    },
    {
      "cell_type": "code",
      "execution_count": null,
      "metadata": {
        "colab": {
          "base_uri": "https://localhost:8080/",
          "height": 612
        },
        "id": "gqT7Yv7ci1qw",
        "outputId": "744f5471-d20e-44a9-eb53-63062c67e066"
      },
      "outputs": [
        {
          "data": {
            "image/png": "[encoded data removed]",
            "text/plain": [
              "<Figure size 800x600 with 2 Axes>"
            ]
          },
          "metadata": {},
          "output_type": "display_data"
        }
      ],
      "source": [
        "# Compute and plot the confusion matrix\n",
        "create_confusion_matrix(actual_labels, predicted_labels)"
      ]
    }
  ],
  "metadata": {
    "accelerator": "GPU",
    "colab": {
      "gpuType": "T4",
      "provenance": []
    },
    "kernelspec": {
      "display_name": "Python 3",
      "name": "python3"
    },
    "language_info": {
      "name": "python"
    }
  },
  "nbformat": 4,
  "nbformat_minor": 0
}
